{
 "cells": [
  {
   "cell_type": "markdown",
   "metadata": {},
   "source": [
    "### Importing all the necessary starting modules"
   ]
  },
  {
   "cell_type": "code",
   "execution_count": 1,
   "metadata": {},
   "outputs": [],
   "source": [
    "import pandas as pd\n",
    "import numpy as np"
   ]
  },
  {
   "cell_type": "code",
   "execution_count": 2,
   "metadata": {},
   "outputs": [
    {
     "data": {
      "text/html": [
       "<div>\n",
       "<style scoped>\n",
       "    .dataframe tbody tr th:only-of-type {\n",
       "        vertical-align: middle;\n",
       "    }\n",
       "\n",
       "    .dataframe tbody tr th {\n",
       "        vertical-align: top;\n",
       "    }\n",
       "\n",
       "    .dataframe thead th {\n",
       "        text-align: right;\n",
       "    }\n",
       "</style>\n",
       "<table border=\"1\" class=\"dataframe\">\n",
       "  <thead>\n",
       "    <tr style=\"text-align: right;\">\n",
       "      <th></th>\n",
       "      <th>Name</th>\n",
       "      <th>Surname</th>\n",
       "      <th>Age</th>\n",
       "      <th>Smokes</th>\n",
       "      <th>AreaQ</th>\n",
       "      <th>Alcohol</th>\n",
       "      <th>Result</th>\n",
       "    </tr>\n",
       "  </thead>\n",
       "  <tbody>\n",
       "    <tr>\n",
       "      <th>0</th>\n",
       "      <td>John</td>\n",
       "      <td>Wick</td>\n",
       "      <td>35</td>\n",
       "      <td>3</td>\n",
       "      <td>5</td>\n",
       "      <td>4</td>\n",
       "      <td>1</td>\n",
       "    </tr>\n",
       "    <tr>\n",
       "      <th>1</th>\n",
       "      <td>John</td>\n",
       "      <td>Constantine</td>\n",
       "      <td>27</td>\n",
       "      <td>20</td>\n",
       "      <td>2</td>\n",
       "      <td>5</td>\n",
       "      <td>1</td>\n",
       "    </tr>\n",
       "    <tr>\n",
       "      <th>2</th>\n",
       "      <td>Camela</td>\n",
       "      <td>Anderson</td>\n",
       "      <td>30</td>\n",
       "      <td>0</td>\n",
       "      <td>5</td>\n",
       "      <td>2</td>\n",
       "      <td>0</td>\n",
       "    </tr>\n",
       "    <tr>\n",
       "      <th>3</th>\n",
       "      <td>Alex</td>\n",
       "      <td>Telles</td>\n",
       "      <td>28</td>\n",
       "      <td>0</td>\n",
       "      <td>8</td>\n",
       "      <td>1</td>\n",
       "      <td>0</td>\n",
       "    </tr>\n",
       "    <tr>\n",
       "      <th>4</th>\n",
       "      <td>Diego</td>\n",
       "      <td>Maradona</td>\n",
       "      <td>68</td>\n",
       "      <td>4</td>\n",
       "      <td>5</td>\n",
       "      <td>6</td>\n",
       "      <td>1</td>\n",
       "    </tr>\n",
       "  </tbody>\n",
       "</table>\n",
       "</div>"
      ],
      "text/plain": [
       "     Name      Surname  Age  Smokes  AreaQ  Alcohol  Result\n",
       "0    John         Wick   35       3      5        4       1\n",
       "1    John  Constantine   27      20      2        5       1\n",
       "2  Camela     Anderson   30       0      5        2       0\n",
       "3    Alex       Telles   28       0      8        1       0\n",
       "4   Diego     Maradona   68       4      5        6       1"
      ]
     },
     "execution_count": 2,
     "metadata": {},
     "output_type": "execute_result"
    }
   ],
   "source": [
    "#Importing the Lung Cancer dataset \n",
    "data = pd.read_csv(\"lungcancer.csv\")\n",
    "data.head(5)"
   ]
  },
  {
   "cell_type": "code",
   "execution_count": 3,
   "metadata": {},
   "outputs": [
    {
     "name": "stdout",
     "output_type": "stream",
     "text": [
      "\n",
      " Different Columns and their data types: \n",
      "\n",
      "<class 'pandas.core.frame.DataFrame'>\n",
      "RangeIndex: 59 entries, 0 to 58\n",
      "Data columns (total 7 columns):\n",
      "Name       59 non-null object\n",
      "Surname    59 non-null object\n",
      "Age        59 non-null int64\n",
      "Smokes     59 non-null int64\n",
      "AreaQ      59 non-null int64\n",
      "Alcohol    59 non-null int64\n",
      "Result     59 non-null int64\n",
      "dtypes: int64(5), object(2)\n",
      "memory usage: 2.8+ KB\n",
      "None\n",
      "\n",
      " Statistical description about the dataset: \n",
      "\n",
      "             Age     Smokes      AreaQ    Alcohol     Result\n",
      "count  59.000000  59.000000  59.000000  59.000000  59.000000\n",
      "mean   42.627119  15.067797   5.203390   3.237288   0.474576\n",
      "std    16.235230   7.984607   2.461984   2.380517   0.503640\n",
      "min    18.000000   0.000000   1.000000   0.000000   0.000000\n",
      "25%    29.000000  10.000000   3.000000   1.000000   0.000000\n",
      "50%    39.000000  15.000000   5.000000   3.000000   0.000000\n",
      "75%    55.000000  20.000000   7.500000   5.000000   1.000000\n",
      "max    77.000000  34.000000  10.000000   8.000000   1.000000\n",
      "\n",
      "\n",
      "Number of rows : 59\n",
      "Number of columns : 7\n"
     ]
    }
   ],
   "source": [
    "#Information about the dataset:\n",
    "print(\"\\n Different Columns and their data types: \\n\")\n",
    "print(data.info())\n",
    "print(\"\\n Statistical description about the dataset: \\n\")\n",
    "print(data.describe())\n",
    "print(\"\\n\")\n",
    "print(\"Number of rows :\" , data.shape[0])\n",
    "print(\"Number of columns :\" , data.shape[1])"
   ]
  },
  {
   "cell_type": "markdown",
   "metadata": {},
   "source": [
    "#### We can notice from the dataset that it could use some treatment. The result column is already in it's binary form so we do not need to aditionally format or modify the data. However, data such as _Name_ , _Surname_, _Age_ , _Smokes_ , etc can undergo some adaptation. "
   ]
  },
  {
   "cell_type": "code",
   "execution_count": 4,
   "metadata": {},
   "outputs": [
    {
     "data": {
      "text/html": [
       "<div>\n",
       "<style scoped>\n",
       "    .dataframe tbody tr th:only-of-type {\n",
       "        vertical-align: middle;\n",
       "    }\n",
       "\n",
       "    .dataframe tbody tr th {\n",
       "        vertical-align: top;\n",
       "    }\n",
       "\n",
       "    .dataframe thead th {\n",
       "        text-align: right;\n",
       "    }\n",
       "</style>\n",
       "<table border=\"1\" class=\"dataframe\">\n",
       "  <thead>\n",
       "    <tr style=\"text-align: right;\">\n",
       "      <th></th>\n",
       "      <th>Name</th>\n",
       "      <th>Surname</th>\n",
       "      <th>Age</th>\n",
       "      <th>Smokes</th>\n",
       "      <th>AreaQ</th>\n",
       "      <th>Alcohol</th>\n",
       "      <th>Result</th>\n",
       "    </tr>\n",
       "  </thead>\n",
       "  <tbody>\n",
       "    <tr>\n",
       "      <th>0</th>\n",
       "      <td>John</td>\n",
       "      <td>Wick</td>\n",
       "      <td>35</td>\n",
       "      <td>3</td>\n",
       "      <td>5</td>\n",
       "      <td>4</td>\n",
       "      <td>1</td>\n",
       "    </tr>\n",
       "    <tr>\n",
       "      <th>1</th>\n",
       "      <td>John</td>\n",
       "      <td>Constantine</td>\n",
       "      <td>27</td>\n",
       "      <td>20</td>\n",
       "      <td>2</td>\n",
       "      <td>5</td>\n",
       "      <td>1</td>\n",
       "    </tr>\n",
       "    <tr>\n",
       "      <th>2</th>\n",
       "      <td>Camela</td>\n",
       "      <td>Anderson</td>\n",
       "      <td>30</td>\n",
       "      <td>0</td>\n",
       "      <td>5</td>\n",
       "      <td>2</td>\n",
       "      <td>0</td>\n",
       "    </tr>\n",
       "    <tr>\n",
       "      <th>3</th>\n",
       "      <td>Alex</td>\n",
       "      <td>Telles</td>\n",
       "      <td>28</td>\n",
       "      <td>0</td>\n",
       "      <td>8</td>\n",
       "      <td>1</td>\n",
       "      <td>0</td>\n",
       "    </tr>\n",
       "    <tr>\n",
       "      <th>4</th>\n",
       "      <td>Diego</td>\n",
       "      <td>Maradona</td>\n",
       "      <td>68</td>\n",
       "      <td>4</td>\n",
       "      <td>5</td>\n",
       "      <td>6</td>\n",
       "      <td>1</td>\n",
       "    </tr>\n",
       "  </tbody>\n",
       "</table>\n",
       "</div>"
      ],
      "text/plain": [
       "     Name      Surname  Age  Smokes  AreaQ  Alcohol  Result\n",
       "0    John         Wick   35       3      5        4       1\n",
       "1    John  Constantine   27      20      2        5       1\n",
       "2  Camela     Anderson   30       0      5        2       0\n",
       "3    Alex       Telles   28       0      8        1       0\n",
       "4   Diego     Maradona   68       4      5        6       1"
      ]
     },
     "execution_count": 4,
     "metadata": {},
     "output_type": "execute_result"
    }
   ],
   "source": [
    "#Maintaing a copy of the original dataset just in case....\n",
    "data_copy = data.copy()\n",
    "data_copy.head(5)"
   ]
  },
  {
   "cell_type": "markdown",
   "metadata": {},
   "source": [
    "#### The _Name_ and _Surname_ do not contribute much towards the output and hence can be dropped"
   ]
  },
  {
   "cell_type": "code",
   "execution_count": 5,
   "metadata": {},
   "outputs": [
    {
     "data": {
      "text/html": [
       "<div>\n",
       "<style scoped>\n",
       "    .dataframe tbody tr th:only-of-type {\n",
       "        vertical-align: middle;\n",
       "    }\n",
       "\n",
       "    .dataframe tbody tr th {\n",
       "        vertical-align: top;\n",
       "    }\n",
       "\n",
       "    .dataframe thead th {\n",
       "        text-align: right;\n",
       "    }\n",
       "</style>\n",
       "<table border=\"1\" class=\"dataframe\">\n",
       "  <thead>\n",
       "    <tr style=\"text-align: right;\">\n",
       "      <th></th>\n",
       "      <th>Age</th>\n",
       "      <th>Smokes</th>\n",
       "      <th>AreaQ</th>\n",
       "      <th>Alcohol</th>\n",
       "      <th>Result</th>\n",
       "    </tr>\n",
       "  </thead>\n",
       "  <tbody>\n",
       "    <tr>\n",
       "      <th>0</th>\n",
       "      <td>35</td>\n",
       "      <td>3</td>\n",
       "      <td>5</td>\n",
       "      <td>4</td>\n",
       "      <td>1</td>\n",
       "    </tr>\n",
       "    <tr>\n",
       "      <th>1</th>\n",
       "      <td>27</td>\n",
       "      <td>20</td>\n",
       "      <td>2</td>\n",
       "      <td>5</td>\n",
       "      <td>1</td>\n",
       "    </tr>\n",
       "    <tr>\n",
       "      <th>2</th>\n",
       "      <td>30</td>\n",
       "      <td>0</td>\n",
       "      <td>5</td>\n",
       "      <td>2</td>\n",
       "      <td>0</td>\n",
       "    </tr>\n",
       "    <tr>\n",
       "      <th>3</th>\n",
       "      <td>28</td>\n",
       "      <td>0</td>\n",
       "      <td>8</td>\n",
       "      <td>1</td>\n",
       "      <td>0</td>\n",
       "    </tr>\n",
       "    <tr>\n",
       "      <th>4</th>\n",
       "      <td>68</td>\n",
       "      <td>4</td>\n",
       "      <td>5</td>\n",
       "      <td>6</td>\n",
       "      <td>1</td>\n",
       "    </tr>\n",
       "  </tbody>\n",
       "</table>\n",
       "</div>"
      ],
      "text/plain": [
       "   Age  Smokes  AreaQ  Alcohol  Result\n",
       "0   35       3      5        4       1\n",
       "1   27      20      2        5       1\n",
       "2   30       0      5        2       0\n",
       "3   28       0      8        1       0\n",
       "4   68       4      5        6       1"
      ]
     },
     "execution_count": 5,
     "metadata": {},
     "output_type": "execute_result"
    }
   ],
   "source": [
    "#Dropping the name and surename columns\n",
    "data = data.drop(columns = {\"Name\" , \"Surname\"})\n",
    "data.head(5)"
   ]
  },
  {
   "cell_type": "markdown",
   "metadata": {},
   "source": [
    "#### Let's see if we can modify and clean the data a little more...\n",
    "\n",
    "Let's try to categorize the numerical data like **AGE , SMOKES, AreaQ , Alcohol** into ranges"
   ]
  },
  {
   "cell_type": "markdown",
   "metadata": {},
   "source": [
    "#### The Age's range from 18 to 77 in the dataset. Let us categorize _Age_ in the following ranges:"
   ]
  },
  {
   "cell_type": "code",
   "execution_count": 6,
   "metadata": {},
   "outputs": [],
   "source": [
    "#Ages 18 to 30 come under 1\n",
    "data.loc[(data['Age'] > 17) & (data['Age'] <= 30), 'Age'] = 1\n",
    "\n",
    "#Ages 31 to 45 come under 2\n",
    "data.loc[(data['Age'] > 30) & (data['Age'] <= 45), 'Age'] = 2\n",
    "\n",
    "#Ages 46 to 60 come under 3\n",
    "data.loc[(data['Age'] > 45) & (data['Age'] <= 60), 'Age'] = 3\n",
    "\n",
    "#Ages 61 to 80 come under 4\n",
    "data.loc[(data['Age'] > 61) & (data['Age'] <= 80), 'Age'] = 4"
   ]
  },
  {
   "cell_type": "markdown",
   "metadata": {},
   "source": [
    "#### The Smoke's ranges from 0 to 34 in the dataset. Let us categorize _Smoke_ in the following ranges:"
   ]
  },
  {
   "cell_type": "code",
   "execution_count": 7,
   "metadata": {},
   "outputs": [
    {
     "data": {
      "text/plain": [
       "2    34\n",
       "1    17\n",
       "3     7\n",
       "4     1\n",
       "Name: Smokes, dtype: int64"
      ]
     },
     "execution_count": 7,
     "metadata": {},
     "output_type": "execute_result"
    }
   ],
   "source": [
    "#Number of smokes between 0 to 10 come under 1\n",
    "data.loc[(data['Smokes'] >= 0) & (data['Smokes'] <= 10), 'Smokes'] = 1\n",
    "\n",
    "#Number of smokes between 11 to 20 come under 2\n",
    "data.loc[(data['Smokes'] > 10) & (data['Smokes'] <= 20), 'Smokes'] = 2\n",
    "\n",
    "#Number of smokes between 21 to 30 come under 3\n",
    "data.loc[(data['Smokes'] > 20) & (data['Smokes'] <= 30), 'Smokes'] = 3\n",
    "\n",
    "#Number of smokes between 31 to 40 come under 4\n",
    "data.loc[(data['Smokes'] > 30) & (data['Smokes'] <= 40), 'Smokes'] = 4\n",
    "\n",
    "data['Smokes'].value_counts()"
   ]
  },
  {
   "cell_type": "markdown",
   "metadata": {},
   "source": [
    "#### The AreaQ ranges from  to 10 in the dataset. Let us categorize _AreaQ_ in the following ranges:"
   ]
  },
  {
   "cell_type": "code",
   "execution_count": 8,
   "metadata": {},
   "outputs": [
    {
     "data": {
      "text/plain": [
       "2    25\n",
       "1    16\n",
       "3    14\n",
       "4     4\n",
       "Name: AreaQ, dtype: int64"
      ]
     },
     "execution_count": 8,
     "metadata": {},
     "output_type": "execute_result"
    }
   ],
   "source": [
    "#Number of AreaQ between 1 to 3 come under 1\n",
    "data.loc[(data['AreaQ'] > 0) & (data['AreaQ'] <= 3), 'AreaQ'] = 1\n",
    "\n",
    "#Number of AreaQ between 4 to 6 come under 2\n",
    "data.loc[(data['AreaQ'] > 3) & (data['AreaQ'] <= 6), 'AreaQ'] = 2\n",
    "\n",
    "#Number of AreaQ between 7 to 8 come under 3\n",
    "data.loc[(data['AreaQ'] > 6) & (data['AreaQ'] <= 8), 'AreaQ'] = 3\n",
    "\n",
    "#Number of AreaQ between 9 to 10 come under 1\n",
    "data.loc[(data['AreaQ'] > 8) & (data['AreaQ'] <= 10), 'AreaQ'] = 4\n",
    "\n",
    "data['AreaQ'].value_counts()"
   ]
  },
  {
   "cell_type": "markdown",
   "metadata": {},
   "source": [
    "#### The Alcohol's ranges from 0 to 8 in the dataset. Let us categorize _Acohol_ in the following ranges:"
   ]
  },
  {
   "cell_type": "code",
   "execution_count": 9,
   "metadata": {},
   "outputs": [
    {
     "data": {
      "text/plain": [
       "1    26\n",
       "2    16\n",
       "3    11\n",
       "4     6\n",
       "Name: Alcohol, dtype: int64"
      ]
     },
     "execution_count": 9,
     "metadata": {},
     "output_type": "execute_result"
    }
   ],
   "source": [
    "#Number of Alcohol between 0 to 2 come under 1\n",
    "data.loc[(data['Alcohol'] >= 0) & (data['Alcohol'] <= 2), 'Alcohol'] = 1\n",
    "\n",
    "#Number of Alcohol between 3 to 4 come under 2\n",
    "data.loc[(data['Alcohol'] > 2) & (data['Alcohol'] <= 4), 'Alcohol'] = 2\n",
    "\n",
    "#Number of Alcohol between 5 to 6 come under 3\n",
    "data.loc[(data['Alcohol'] > 4) & (data['Alcohol'] <= 6), 'Alcohol'] = 3\n",
    "\n",
    "#Number of Alcohol between 7 to 8 come under 4\n",
    "data.loc[(data['Alcohol'] > 3) & (data['Alcohol'] <= 8), 'Alcohol'] = 4\n",
    "\n",
    "data[\"Alcohol\"].value_counts()"
   ]
  },
  {
   "cell_type": "markdown",
   "metadata": {},
   "source": [
    "#### Our data has become much cleaner than before with only categorical values:  "
   ]
  },
  {
   "cell_type": "code",
   "execution_count": 10,
   "metadata": {},
   "outputs": [
    {
     "data": {
      "text/html": [
       "<div>\n",
       "<style scoped>\n",
       "    .dataframe tbody tr th:only-of-type {\n",
       "        vertical-align: middle;\n",
       "    }\n",
       "\n",
       "    .dataframe tbody tr th {\n",
       "        vertical-align: top;\n",
       "    }\n",
       "\n",
       "    .dataframe thead th {\n",
       "        text-align: right;\n",
       "    }\n",
       "</style>\n",
       "<table border=\"1\" class=\"dataframe\">\n",
       "  <thead>\n",
       "    <tr style=\"text-align: right;\">\n",
       "      <th></th>\n",
       "      <th>Age</th>\n",
       "      <th>Smokes</th>\n",
       "      <th>AreaQ</th>\n",
       "      <th>Alcohol</th>\n",
       "      <th>Result</th>\n",
       "    </tr>\n",
       "  </thead>\n",
       "  <tbody>\n",
       "    <tr>\n",
       "      <th>0</th>\n",
       "      <td>2</td>\n",
       "      <td>1</td>\n",
       "      <td>2</td>\n",
       "      <td>2</td>\n",
       "      <td>1</td>\n",
       "    </tr>\n",
       "    <tr>\n",
       "      <th>1</th>\n",
       "      <td>1</td>\n",
       "      <td>2</td>\n",
       "      <td>1</td>\n",
       "      <td>3</td>\n",
       "      <td>1</td>\n",
       "    </tr>\n",
       "    <tr>\n",
       "      <th>2</th>\n",
       "      <td>1</td>\n",
       "      <td>1</td>\n",
       "      <td>2</td>\n",
       "      <td>1</td>\n",
       "      <td>0</td>\n",
       "    </tr>\n",
       "    <tr>\n",
       "      <th>3</th>\n",
       "      <td>1</td>\n",
       "      <td>1</td>\n",
       "      <td>3</td>\n",
       "      <td>1</td>\n",
       "      <td>0</td>\n",
       "    </tr>\n",
       "    <tr>\n",
       "      <th>4</th>\n",
       "      <td>4</td>\n",
       "      <td>1</td>\n",
       "      <td>2</td>\n",
       "      <td>3</td>\n",
       "      <td>1</td>\n",
       "    </tr>\n",
       "  </tbody>\n",
       "</table>\n",
       "</div>"
      ],
      "text/plain": [
       "   Age  Smokes  AreaQ  Alcohol  Result\n",
       "0    2       1      2        2       1\n",
       "1    1       2      1        3       1\n",
       "2    1       1      2        1       0\n",
       "3    1       1      3        1       0\n",
       "4    4       1      2        3       1"
      ]
     },
     "execution_count": 10,
     "metadata": {},
     "output_type": "execute_result"
    }
   ],
   "source": [
    "data.head(5)"
   ]
  },
  {
   "cell_type": "markdown",
   "metadata": {},
   "source": [
    "#### Let's now plot the relationship between our variables using the Pearson Correlation between all the attributes in the dataset"
   ]
  },
  {
   "cell_type": "code",
   "execution_count": 11,
   "metadata": {},
   "outputs": [],
   "source": [
    "import seaborn as sns\n",
    "import matplotlib.pyplot as plt"
   ]
  },
  {
   "cell_type": "code",
   "execution_count": 12,
   "metadata": {},
   "outputs": [
    {
     "data": {
      "text/plain": [
       "<matplotlib.axes._subplots.AxesSubplot at 0x1c637a10>"
      ]
     },
     "execution_count": 12,
     "metadata": {},
     "output_type": "execute_result"
    },
    {
     "data": {
      "image/png": "[encoded data removed]",
      "text/plain": [
       "<Figure size 720x720 with 2 Axes>"
      ]
     },
     "metadata": {
      "needs_background": "light"
     },
     "output_type": "display_data"
    }
   ],
   "source": [
    "colormap = plt.cm.inferno\n",
    "plt.figure(figsize=(10,10))\n",
    "plt.title('Pearson Correlation of Features', y=1.05, size=15)\n",
    "sns.heatmap(data.astype(float).corr(),linewidths=0.1,vmax=1.0, square=True, cmap=colormap, linecolor='white', annot=True)"
   ]
  },
  {
   "cell_type": "markdown",
   "metadata": {},
   "source": [
    "#### Let's split our data into a training and testing set to calculate the model accuracy using the _Decison Tree Classifier_"
   ]
  },
  {
   "cell_type": "code",
   "execution_count": 13,
   "metadata": {},
   "outputs": [],
   "source": [
    "from sklearn.model_selection import train_test_split\n",
    "from sklearn.tree import DecisionTreeClassifier \n",
    "from sklearn import metrics "
   ]
  },
  {
   "cell_type": "code",
   "execution_count": 14,
   "metadata": {},
   "outputs": [],
   "source": [
    "X = data.iloc[:,0 : 4] #Features (Age, Smokes, AreaQ, Alcohol)\n",
    "y = data.iloc[: , 4] #Label (Result)"
   ]
  },
  {
   "cell_type": "code",
   "execution_count": 15,
   "metadata": {},
   "outputs": [],
   "source": [
    "#The traning size is 70% and the test size is 30%\n",
    "X_train, X_test, y_train, y_test = train_test_split(X, y, test_size=0.3) "
   ]
  },
  {
   "cell_type": "code",
   "execution_count": 16,
   "metadata": {},
   "outputs": [
    {
     "name": "stdout",
     "output_type": "stream",
     "text": [
      "Accuracy: 94.44444444444444\n"
     ]
    }
   ],
   "source": [
    "clf = DecisionTreeClassifier()\n",
    "clf = clf.fit(X_train , y_train)\n",
    "\n",
    "y_pred = clf.predict(X_test)\n",
    "print(\"Accuracy:\",(metrics.accuracy_score(y_test, y_pred))*100)"
   ]
  },
  {
   "cell_type": "markdown",
   "metadata": {},
   "source": [
    "#### We can see that the accuracy of the model is 94% which is good enough to predict the result of the new inputs. We can improve the model further more by trying different algorithms and further cleansing the data."
   ]
  }
 ],
 "metadata": {
  "kernelspec": {
   "display_name": "Python 3",
   "language": "python",
   "name": "python3"
  },
  "language_info": {
   "codemirror_mode": {
    "name": "ipython",
    "version": 3
   },
   "file_extension": ".py",
   "mimetype": "text/x-python",
   "name": "python",
   "nbconvert_exporter": "python",
   "pygments_lexer": "ipython3",
   "version": "3.7.2"
  }
 },
 "nbformat": 4,
 "nbformat_minor": 2
}
